{
 "cells": [
  {
   "cell_type": "markdown",
   "metadata": {},
   "source": [
    "# PSNR & SSIM"
   ]
  },
  {
   "cell_type": "code",
   "execution_count": 1,
   "metadata": {},
   "outputs": [],
   "source": [
    "#import tensorflow as tf\n",
    "import math\n",
    "import numpy as np\n",
    "from PIL import Image\n",
    "import cv2\n",
    "import os"
   ]
  },
  {
   "cell_type": "code",
   "execution_count": 2,
   "metadata": {},
   "outputs": [],
   "source": [
    "def calculate_psnr(img1, img2):\n",
    "    # img1 and img2 have range [0, 255]\n",
    "    img1 = img1.astype(np.float64)\n",
    "    img2 = img2.astype(np.float64)\n",
    "    mse = np.mean((img1 - img2)**2)\n",
    "    if mse == 0:\n",
    "        return float('inf')\n",
    "    return 20 * math.log10(255.0 / math.sqrt(mse))\n",
    "\n",
    "def ssim(img1, img2):\n",
    "    C1 = (0.01 * 255)**2\n",
    "    C2 = (0.03 * 255)**2\n",
    "\n",
    "    img1 = img1.astype(np.float64)\n",
    "    img2 = img2.astype(np.float64)\n",
    "    kernel = cv2.getGaussianKernel(11, 1.5)\n",
    "    window = np.outer(kernel, kernel.transpose())\n",
    "\n",
    "    mu1 = cv2.filter2D(img1, -1, window)[5:-5, 5:-5]  # valid\n",
    "    mu2 = cv2.filter2D(img2, -1, window)[5:-5, 5:-5]\n",
    "    mu1_sq = mu1**2\n",
    "    mu2_sq = mu2**2\n",
    "    mu1_mu2 = mu1 * mu2\n",
    "    sigma1_sq = cv2.filter2D(img1**2, -1, window)[5:-5, 5:-5] - mu1_sq\n",
    "    sigma2_sq = cv2.filter2D(img2**2, -1, window)[5:-5, 5:-5] - mu2_sq\n",
    "    sigma12 = cv2.filter2D(img1 * img2, -1, window)[5:-5, 5:-5] - mu1_mu2\n",
    "\n",
    "    ssim_map = ((2 * mu1_mu2 + C1) * (2 * sigma12 + C2)) / ((mu1_sq + mu2_sq + C1) *\n",
    "                                                            (sigma1_sq + sigma2_sq + C2))\n",
    "    return ssim_map.mean()\n",
    "\n",
    "\n",
    "def calculate_ssim(img1, img2):\n",
    "    '''calculate SSIM\n",
    "    the same outputs as MATLAB's\n",
    "    img1, img2: [0, 255]\n",
    "    '''\n",
    "    if not img1.shape == img2.shape:\n",
    "        raise ValueError('Input images must have the same dimensions.')\n",
    "    if img1.ndim == 2:\n",
    "        return ssim(img1, img2)\n",
    "    elif img1.ndim == 3:\n",
    "        if img1.shape[2] == 3:\n",
    "            ssims = []\n",
    "            for i in range(3):\n",
    "                ssims.append(ssim(img1, img2))\n",
    "            return np.array(ssims).mean()\n",
    "        elif img1.shape[2] == 1:\n",
    "            return ssim(np.squeeze(img1), np.squeeze(img2))\n",
    "    else:\n",
    "        raise ValueError('Wrong input image dimensions.')\n",
    "        \n",
    "def img2np(img_path):\n",
    "    img=Image.open(img_path)\n",
    "    return np.array(img)\n",
    "\n",
    "#gan切一半\n",
    "def img2np_gan(img_path):\n",
    "    img=Image.open(img_path)\n",
    "    cropped = img.crop((512, 0, 1024, 512))\n",
    "    return np.array(cropped)\n",
    "\n",
    "#算兩個資料夾內相同圖片的psnr和ssim的平均\n",
    "def mean_psnr_ssim(ori_path,deblur_path):\n",
    "    total_psnr = 0\n",
    "    total_ssim = 0\n",
    "    for i in os.listdir(ori_path):\n",
    "        ori_img_path = os.path.join(ori_path,i)\n",
    "        deblur_img_path = os.path.join(deblur_path,i)\n",
    "        total_psnr += calculate_psnr(img2np(ori_img_path),img2np_gan(deblur_img_path))  #gan切一半\n",
    "        total_ssim += calculate_ssim(img2np(ori_img_path),img2np_gan(deblur_img_path))  #gan切一半\n",
    "    print(\"平均psnr = \", total_psnr/len(os.listdir(ori_path)))\n",
    "    print(\"平均ssim = \", total_ssim/len(os.listdir(ori_path)))"
   ]
  },
  {
   "cell_type": "code",
   "execution_count": 3,
   "metadata": {},
   "outputs": [],
   "source": [
    "#原本gan\n",
    "HP_ori_path = r\"D:\\psnr_ssim\\原本pix2pix\\HPtest2HP_origin_pix2pix\"\n",
    "HP_gan_path = r\"D:\\0719GAN資料\\data_split_nonbi\\HP\\test\"\n",
    "SSA_ori_path = r\"D:\\psnr_ssim\\原本pix2pix\\SSAtest2SSA_origin_pix2pix\"\n",
    "SSA_gan_path = r\"D:\\0719GAN資料\\data_split_nonbi\\SSA\\test\"\n",
    "TA_ori_path = r\"D:\\psnr_ssim\\原本pix2pix\\TAtest2TA_origin_pix2pix\"\n",
    "TA_gan_path = r\"D:\\0719GAN資料\\data_split_nonbi\\TA\\test\""
   ]
  },
  {
   "cell_type": "code",
   "execution_count": 6,
   "metadata": {},
   "outputs": [
    {
     "name": "stdout",
     "output_type": "stream",
     "text": [
      "平均psnr =  24.367349633750887\n",
      "平均ssim =  0.9192010104790864\n",
      "平均psnr =  21.432286261085583\n",
      "平均ssim =  0.8685824193784262\n",
      "平均psnr =  22.83624236950441\n",
      "平均ssim =  0.7994993156308975\n"
     ]
    }
   ],
   "source": [
    "mean_psnr_ssim(HP_ori_path,HP_gan_path)\n",
    "mean_psnr_ssim(SSA_ori_path,SSA_gan_path)\n",
    "mean_psnr_ssim(TA_ori_path,TA_gan_path)"
   ]
  },
  {
   "cell_type": "code",
   "execution_count": 7,
   "metadata": {},
   "outputs": [],
   "source": [
    "#earlystop25 gan\n",
    "HP_ori_path = r\"D:\\psnr_ssim\\earlystop25\\HPtestHP_earlystop_25epoch\"\n",
    "HP_gan_path = r\"D:\\0719GAN資料\\data_split_nonbi\\HP\\test\"\n",
    "SSA_ori_path = r\"D:\\psnr_ssim\\earlystop25\\SSAtest2SSA_earlystop_25epoch\"\n",
    "SSA_gan_path = r\"D:\\0719GAN資料\\data_split_nonbi\\SSA\\test\"\n",
    "TA_ori_path = r\"D:\\psnr_ssim\\earlystop25\\TAtest2TA_earlystop_25epoch\"\n",
    "TA_gan_path = r\"D:\\0719GAN資料\\data_split_nonbi\\TA\\test\""
   ]
  },
  {
   "cell_type": "code",
   "execution_count": 8,
   "metadata": {},
   "outputs": [
    {
     "name": "stdout",
     "output_type": "stream",
     "text": [
      "平均psnr =  25.73136650935895\n",
      "平均ssim =  0.9262808385076039\n",
      "平均psnr =  21.738015261544597\n",
      "平均ssim =  0.8971438048499826\n",
      "平均psnr =  23.354728552339278\n",
      "平均ssim =  0.8277227969218566\n"
     ]
    }
   ],
   "source": [
    "mean_psnr_ssim(HP_ori_path,HP_gan_path)\n",
    "mean_psnr_ssim(SSA_ori_path,SSA_gan_path)\n",
    "mean_psnr_ssim(TA_ori_path,TA_gan_path)"
   ]
  }
 ],
 "metadata": {
  "kernelspec": {
   "display_name": "Python 3",
   "language": "python",
   "name": "python3"
  },
  "language_info": {
   "codemirror_mode": {
    "name": "ipython",
    "version": 3
   },
   "file_extension": ".py",
   "mimetype": "text/x-python",
   "name": "python",
   "nbconvert_exporter": "python",
   "pygments_lexer": "ipython3",
   "version": "3.6.10"
  }
 },
 "nbformat": 4,
 "nbformat_minor": 4
}
