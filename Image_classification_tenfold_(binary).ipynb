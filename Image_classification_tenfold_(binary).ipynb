{
 "cells": [
  {
   "cell_type": "code",
   "execution_count": null,
   "metadata": {
    "executionInfo": {
     "elapsed": 5095,
     "status": "ok",
     "timestamp": 1633322599251,
     "user": {
      "displayName": "王威淳",
      "photoUrl": "https://lh3.googleusercontent.com/a/default-user=s64",
      "userId": "09699634453690814778"
     },
     "user_tz": -480
    },
    "id": "th8HAIC3UoRh"
   },
   "outputs": [],
   "source": [
    "from tensorflow import keras\n",
    "from sklearn.model_selection import KFold\n",
    "import tensorflow as tf\n",
    "from tensorflow.keras import layers\n",
    "import os\n",
    "from sklearn.model_selection import train_test_split\n",
    "from keras.preprocessing.image import ImageDataGenerator\n",
    "from sklearn.metrics import confusion_matrix,f1_score,recall_score,precision_score,classification_report"
   ]
  },
  {
   "cell_type": "code",
   "execution_count": null,
   "metadata": {
    "executionInfo": {
     "elapsed": 925,
     "status": "ok",
     "timestamp": 1633322707947,
     "user": {
      "displayName": "王威淳",
      "photoUrl": "https://lh3.googleusercontent.com/a/default-user=s64",
      "userId": "09699634453690814778"
     },
     "user_tz": -480
    },
    "id": "6NZ3QEMXGTQD"
   },
   "outputs": [],
   "source": [
    "#some parameters\n",
    "IMG_PATH = 'train_neoplastic'\n",
    "IMG_HEIGHT = 512\n",
    "IMG_WIDTH = 512\n",
    "IMG_CHANNELS = 3\n",
    "num_folds = 10  #kfold\n",
    "BATCH_SIZE = 4"
   ]
  },
  {
   "cell_type": "markdown",
   "metadata": {
    "id": "2LZvRbhUGTQH"
   },
   "source": [
    "# Reads the image file path and divides it into train, validation, and test"
   ]
  },
  {
   "cell_type": "code",
   "execution_count": null,
   "metadata": {
    "executionInfo": {
     "elapsed": 7,
     "status": "ok",
     "timestamp": 1633322599253,
     "user": {
      "displayName": "王威淳",
      "photoUrl": "https://lh3.googleusercontent.com/a/default-user=s64",
      "userId": "09699634453690814778"
     },
     "user_tz": -480
    },
    "id": "8Qm1NZwBGTQH"
   },
   "outputs": [],
   "source": [
    "import random,os\n",
    "def get_images_path_list(data_type):\n",
    "    images_path_list= [os.path.join(root, name)\n",
    "                       for root, dirs, files in os.walk(os.path.join(IMG_PATH,data_type))\n",
    "                       for name in files]\n",
    "    random.shuffle(images_path_list) \n",
    "    return images_path_list"
   ]
  },
  {
   "cell_type": "code",
   "execution_count": null,
   "metadata": {
    "colab": {
     "base_uri": "https://localhost:8080/"
    },
    "executionInfo": {
     "elapsed": 8,
     "status": "ok",
     "timestamp": 1633322599254,
     "user": {
      "displayName": "王威淳",
      "photoUrl": "https://lh3.googleusercontent.com/a/default-user=s64",
      "userId": "09699634453690814778"
     },
     "user_tz": -480
    },
    "id": "bl_vcpJVGTQL",
    "outputId": "f1317e79-9b2b-41d2-aa6b-63b1d6c828df"
   },
   "outputs": [],
   "source": [
    "SSA_images_path_list=get_images_path_list('neoplastic')\n",
    "len(SSA_images_path_list)"
   ]
  },
  {
   "cell_type": "code",
   "execution_count": null,
   "metadata": {
    "colab": {
     "base_uri": "https://localhost:8080/"
    },
    "executionInfo": {
     "elapsed": 5,
     "status": "ok",
     "timestamp": 1633322599254,
     "user": {
      "displayName": "王威淳",
      "photoUrl": "https://lh3.googleusercontent.com/a/default-user=s64",
      "userId": "09699634453690814778"
     },
     "user_tz": -480
    },
    "id": "rlBjyFGLUoRm",
    "outputId": "970588f4-5a1a-4d6f-9431-6c03882f2ab5"
   },
   "outputs": [],
   "source": [
    "TA_images_path_list=get_images_path_list('non_neoplastic')\n",
    "len(TA_images_path_list)"
   ]
  },
  {
   "cell_type": "code",
   "execution_count": null,
   "metadata": {
    "colab": {
     "base_uri": "https://localhost:8080/"
    },
    "executionInfo": {
     "elapsed": 6,
     "status": "ok",
     "timestamp": 1633322600425,
     "user": {
      "displayName": "王威淳",
      "photoUrl": "https://lh3.googleusercontent.com/a/default-user=s64",
      "userId": "09699634453690814778"
     },
     "user_tz": -480
    },
    "id": "ujr8QhOAUoRn",
    "outputId": "4fe19e96-16ef-4a1a-e505-2e9c20d9ece2"
   },
   "outputs": [],
   "source": [
    "train_images_path_list = SSA_images_path_list+TA_images_path_list\n",
    "len(train_images_path_list)"
   ]
  },
  {
   "cell_type": "markdown",
   "metadata": {
    "id": "4FiiFI6SGTQS"
   },
   "source": [
    "# Create image features"
   ]
  },
  {
   "cell_type": "code",
   "execution_count": null,
   "metadata": {
    "executionInfo": {
     "elapsed": 2,
     "status": "ok",
     "timestamp": 1633322601656,
     "user": {
      "displayName": "王威淳",
      "photoUrl": "https://lh3.googleusercontent.com/a/default-user=s64",
      "userId": "09699634453690814778"
     },
     "user_tz": -480
    },
    "id": "TpESzWDHGTQS"
   },
   "outputs": [],
   "source": [
    "from PIL import Image\n",
    "import numpy as np"
   ]
  },
  {
   "cell_type": "code",
   "execution_count": null,
   "metadata": {
    "executionInfo": {
     "elapsed": 2,
     "status": "ok",
     "timestamp": 1633322601656,
     "user": {
      "displayName": "王威淳",
      "photoUrl": "https://lh3.googleusercontent.com/a/default-user=s64",
      "userId": "09699634453690814778"
     },
     "user_tz": -480
    },
    "id": "whRF_8T-GTQU"
   },
   "outputs": [],
   "source": [
    "def imagelist_to_np_array(images_path_list):\n",
    "    img_num=len(images_path_list)\n",
    "    img_np_array = np.ndarray((img_num,\n",
    "                               IMG_HEIGHT, \n",
    "                               IMG_WIDTH,\n",
    "                               3), dtype=np.uint8)\n",
    "    for i, image_file_path in enumerate(images_path_list):\n",
    "        #print(image_file_path)\n",
    "        img = Image.open(image_file_path) \n",
    "        img = img.resize((IMG_HEIGHT , IMG_WIDTH), Image.BILINEAR )\n",
    "        img_np_array[i] = img\n",
    "    return img_np_array"
   ]
  },
  {
   "cell_type": "code",
   "execution_count": null,
   "metadata": {
    "colab": {
     "base_uri": "https://localhost:8080/"
    },
    "executionInfo": {
     "elapsed": 15400,
     "status": "ok",
     "timestamp": 1633322618340,
     "user": {
      "displayName": "王威淳",
      "photoUrl": "https://lh3.googleusercontent.com/a/default-user=s64",
      "userId": "09699634453690814778"
     },
     "user_tz": -480
    },
    "id": "Eo15RjMjUoRp",
    "outputId": "1b74844c-2a32-4565-faec-25aa7202d312"
   },
   "outputs": [],
   "source": [
    "x_train_image = imagelist_to_np_array(train_images_path_list)\n",
    "x_train_normalize = x_train_image/255\n",
    "print('train:',x_train_normalize.shape)"
   ]
  },
  {
   "cell_type": "markdown",
   "metadata": {
    "id": "WvJEWvhWGTQd"
   },
   "source": [
    "# Create label tags"
   ]
  },
  {
   "cell_type": "code",
   "execution_count": null,
   "metadata": {
    "executionInfo": {
     "elapsed": 21,
     "status": "ok",
     "timestamp": 1633322618342,
     "user": {
      "displayName": "王威淳",
      "photoUrl": "https://lh3.googleusercontent.com/a/default-user=s64",
      "userId": "09699634453690814778"
     },
     "user_tz": -480
    },
    "id": "dJ1SW911GTQd"
   },
   "outputs": [],
   "source": [
    "def prepare_label(images_path_list):\n",
    "    y_label = []\n",
    "    for file_path in images_path_list:\n",
    "        if 'neoplastic' in file_path:\n",
    "            y_label.append(1)\n",
    "        else:\n",
    "            y_label.append(0)\n",
    "    return np.array(y_label)"
   ]
  },
  {
   "cell_type": "code",
   "execution_count": null,
   "metadata": {
    "colab": {
     "base_uri": "https://localhost:8080/"
    },
    "executionInfo": {
     "elapsed": 20,
     "status": "ok",
     "timestamp": 1633322618342,
     "user": {
      "displayName": "王威淳",
      "photoUrl": "https://lh3.googleusercontent.com/a/default-user=s64",
      "userId": "09699634453690814778"
     },
     "user_tz": -480
    },
    "id": "a0N7_9hdGTQf",
    "outputId": "d927bed1-6dbc-496c-96c4-783863c4d241"
   },
   "outputs": [],
   "source": [
    "y_train_label =prepare_label(train_images_path_list)\n",
    "print('train label:',len(y_train_label) )"
   ]
  },
  {
   "cell_type": "markdown",
   "metadata": {},
   "source": [
    "# kfold"
   ]
  },
  {
   "cell_type": "code",
   "execution_count": null,
   "metadata": {
    "executionInfo": {
     "elapsed": 18,
     "status": "ok",
     "timestamp": 1633322618342,
     "user": {
      "displayName": "王威淳",
      "photoUrl": "https://lh3.googleusercontent.com/a/default-user=s64",
      "userId": "09699634453690814778"
     },
     "user_tz": -480
    },
    "id": "OE51ciC6UoRq"
   },
   "outputs": [],
   "source": [
    "num_folds = 10"
   ]
  },
  {
   "cell_type": "code",
   "execution_count": null,
   "metadata": {
    "executionInfo": {
     "elapsed": 18,
     "status": "ok",
     "timestamp": 1633322618343,
     "user": {
      "displayName": "王威淳",
      "photoUrl": "https://lh3.googleusercontent.com/a/default-user=s64",
      "userId": "09699634453690814778"
     },
     "user_tz": -480
    },
    "id": "B6SYgjVPUoRr"
   },
   "outputs": [],
   "source": [
    "kfold = KFold(n_splits=num_folds, shuffle=True)"
   ]
  },
  {
   "cell_type": "code",
   "execution_count": null,
   "metadata": {
    "executionInfo": {
     "elapsed": 18,
     "status": "ok",
     "timestamp": 1633322618343,
     "user": {
      "displayName": "王威淳",
      "photoUrl": "https://lh3.googleusercontent.com/a/default-user=s64",
      "userId": "09699634453690814778"
     },
     "user_tz": -480
    },
    "id": "v10kRtr1UoRr"
   },
   "outputs": [],
   "source": [
    "# Define per-fold score containers\n",
    "acc_per_fold = []\n",
    "loss_per_fold = []"
   ]
  },
  {
   "cell_type": "code",
   "execution_count": null,
   "metadata": {
    "executionInfo": {
     "elapsed": 451,
     "status": "ok",
     "timestamp": 1633322767427,
     "user": {
      "displayName": "王威淳",
      "photoUrl": "https://lh3.googleusercontent.com/a/default-user=s64",
      "userId": "09699634453690814778"
     },
     "user_tz": -480
    },
    "id": "KmD_1WS1fMPS"
   },
   "outputs": [],
   "source": [
    "def load_pretraind_model(model_name):\n",
    "    base_model=0\n",
    "    size=(IMG_HEIGHT, IMG_WIDTH, IMG_CHANNELS)\n",
    "    if model_name==\"Xception\":\n",
    "        base_model = keras.applications.Xception(\n",
    "            weights=\"imagenet\",  # Load weights pre-trained on ImageNet.\n",
    "            input_shape=size,\n",
    "            include_top=False\n",
    "        )\n",
    "    elif model_name==\"InceptionResNetV2\":\n",
    "        base_model = keras.applications.InceptionResNetV2(\n",
    "          weights=\"imagenet\",  # Load weights pre-trained on ImageNet.\n",
    "          input_shape=size,\n",
    "          include_top=False\n",
    "        )\n",
    "    elif model_name==\"ResNet101\":\n",
    "        base_model = keras.applications.ResNet101(\n",
    "        weights=\"imagenet\",  # Load weights pre-trained on ImageNet.\n",
    "        input_shape=size,\n",
    "        include_top=False\n",
    "        )\n",
    "    elif model_name==\"EfficientNetB4\":\n",
    "        base_model = keras.applications.EfficientNetB4(\n",
    "        weights=\"imagenet\",  # Load weights pre-trained on ImageNet.\n",
    "        input_shape=size,\n",
    "        include_top=False\n",
    "        )\n",
    "    return base_model "
   ]
  },
  {
   "cell_type": "code",
   "execution_count": null,
   "metadata": {
    "executionInfo": {
     "elapsed": 220,
     "status": "ok",
     "timestamp": 1633322769793,
     "user": {
      "displayName": "王威淳",
      "photoUrl": "https://lh3.googleusercontent.com/a/default-user=s64",
      "userId": "09699634453690814778"
     },
     "user_tz": -480
    },
    "id": "UDs0AoYEd27p"
   },
   "outputs": [],
   "source": [
    "#model_names=[\"Xception\",\"ResNet101\",\"NASNetLarge\",\"EfficientNetB4\",\"InceptionResNetV2\"]"
   ]
  },
  {
   "cell_type": "code",
   "execution_count": null,
   "metadata": {},
   "outputs": [],
   "source": [
    "model_names=[\"InceptionResNetV2\"]"
   ]
  },
  {
   "cell_type": "markdown",
   "metadata": {},
   "source": [
    "# perform 10-fold in model_names"
   ]
  },
  {
   "cell_type": "code",
   "execution_count": null,
   "metadata": {
    "colab": {
     "base_uri": "https://localhost:8080/"
    },
    "id": "Ws0DmdK7UoRr",
    "outputId": "24d38511-2eff-42cc-97de-92eeb384f21a"
   },
   "outputs": [],
   "source": [
    "for model_name in model_names:\n",
    "    # Define per-fold score containers\n",
    "    acc_per_fold = []\n",
    "    loss_per_fold = []\n",
    "    sensitivity_per_fold=[]\n",
    "    specificity_per_fold=[]\n",
    "    F1_per_fold=[]\n",
    "    \n",
    "    fold_no = 1\n",
    "\n",
    "    for train, test in kfold.split(x_train_normalize, y_train_label):\n",
    "        \n",
    "        #data preparation############################################################\n",
    "        Ori_train, Ori_val, Ori_train_label, Ori_val_label = train_test_split(x_train_normalize[train], y_train_label[train], test_size=0.1, random_state=42)\n",
    "        \n",
    "        #data augmentation\n",
    "        datagen = keras.preprocessing.image.ImageDataGenerator(\n",
    "                rotation_range=10,  \n",
    "                width_shift_range=0.2,  \n",
    "                height_shift_range=0.2,  \n",
    "                horizontal_flip=True,  \n",
    "                vertical_flip=False) \n",
    "        \n",
    "        datagen = keras.preprocessing.image.ImageDataGenerator()\n",
    "        datagen.fit(Ori_train)\n",
    "        \n",
    "        data_flow_train=datagen.flow(\n",
    "            x=Ori_train,\n",
    "            y=Ori_train_label,\n",
    "            batch_size=BATCH_SIZE\n",
    "        )\n",
    "\n",
    "        datagen_val = keras.preprocessing.image.ImageDataGenerator()\n",
    "        datagen_val.fit(Ori_val)\n",
    "        \n",
    "        data_flow_val=datagen.flow(\n",
    "            x=Ori_val,\n",
    "            y=Ori_val_label,\n",
    "            batch_size=BATCH_SIZE\n",
    "        )\n",
    "        \n",
    "        #define_model#########################################################\n",
    "        \n",
    "        base_model = load_pretraind_model(model_name)\n",
    "\n",
    "        # Do not include the ImageNet classifier at the top.\n",
    "        # Freeze the base_model\n",
    "        base_model.trainable = False\n",
    "\n",
    "        model=tf.keras.Sequential([\n",
    "            base_model,\n",
    "            layers.GlobalAveragePooling2D(),\n",
    "            layers.Dense(1,activation='sigmoid')\n",
    "        ])\n",
    "\n",
    "        model.compile(\n",
    "          optimizer=keras.optimizers.Adam(),\n",
    "          loss=keras.losses.BinaryCrossentropy(),\n",
    "          metrics=['accuracy'],\n",
    "        )\n",
    "\n",
    "        #callbacks############################################################\n",
    "        \n",
    "        early_stopping = keras.callbacks.EarlyStopping(patience=15, verbose=1)\n",
    "        \n",
    "        filepath=\"SaveModel\\\\\"+model_name+\"\\\\\"+model_name+str(fold_no)+\".h5\"\n",
    "        os.makedirs(\"SaveModel\\\\\"+model_name,exist_ok=True)\n",
    "        \n",
    "        checkpoint = keras.callbacks.ModelCheckpoint(filepath, monitor='val_accuracy', verbose=1, save_best_only=True, mode='max')  \n",
    "        \n",
    "        ######################################################################\n",
    "\n",
    "        train_history=model.fit_generator(\n",
    "            data_flow_train,\n",
    "            steps_per_epoch=Ori_train.shape[0]//BATCH_SIZE,\n",
    "            epochs=20, \n",
    "            #callbacks=[early_stopping,checkpoint], \n",
    "            #validation_split=0.2,\n",
    "            validation_data=(data_flow_val),\n",
    "            verbose=0\n",
    "        )                     \n",
    "        \n",
    "        \n",
    "        \n",
    "        # Generate generalization metrics\n",
    "        scores = model.evaluate(x_train_normalize[test], y_train_label[test], verbose=0)\n",
    "        print(f'Score for fold {fold_no}: {model.metrics_names[0]} of {scores[0]}; {model.metrics_names[1]} of {scores[1]*100}%')\n",
    "        acc_per_fold.append(scores[1] * 100)\n",
    "        loss_per_fold.append(scores[0])\n",
    "        \n",
    "        #predict test trun to 0,1 and the confusion matrix\n",
    "        y_pred=(model.predict(x_train_normalize[test]) > 0.5).astype(\"int32\")\n",
    "        #ssa is 1 ta is 0\n",
    "        confusion=confusion_matrix(y_train_label[test], y_pred)\n",
    "        tn, fp, fn, tp = confusion.ravel()\n",
    "        sensitivity=tp/(tp+fn)\n",
    "        specificity=tn/(tn+fp)\n",
    "        F1=f1_score(y_train_label[test], y_pred)\n",
    " \n",
    "\n",
    "        sensitivity_per_fold.append(sensitivity)\n",
    "        specificity_per_fold.append(specificity)\n",
    "        F1_per_fold.append(F1)\n",
    "\n",
    "\n",
    "        # Increase fold number\n",
    "        fold_no = fold_no + 1\n",
    "    \n",
    "    # print all ten fold result\n",
    "    print('------------------------------------------------------------------------')\n",
    "    print('Score per fold')\n",
    "    for i in range(0, len(acc_per_fold)):\n",
    "        print('------------------------------------------------------------------------')\n",
    "        print(f'> Fold {i+1} - Loss: {round(loss_per_fold[i],2)} - Accuracy: {round(acc_per_fold[i],2)}% - Sensitivity: {round(sensitivity_per_fold[i],2)} - Specificity: {round(specificity_per_fold[i],2)} - F1: {round(F1_per_fold[i],2)}')\n",
    "    print('------------------------------------------------------------------------')\n",
    "    print('Average scores for all folds:')\n",
    "    print(f'> Accuracy: {np.mean(acc_per_fold)} (+- {np.std(acc_per_fold)})')\n",
    "    print(f'> Sensitivity: {np.mean(sensitivity_per_fold)} (+- {np.std(sensitivity_per_fold)})')\n",
    "    print(f'> Specificity: {np.mean(specificity_per_fold)} (+- {np.std(specificity_per_fold)})')\n",
    "    print(f'> F1: {np.mean(F1_per_fold)} (+- {np.std(F1_per_fold)})')\n",
    "    print(f'> Loss: {np.mean(loss_per_fold)}')\n",
    "    print('------------------------------------------------------------------------')"
   ]
  },
  {
   "cell_type": "markdown",
   "metadata": {
    "id": "t6JndGULGTRB"
   },
   "source": [
    "# load model"
   ]
  },
  {
   "cell_type": "code",
   "execution_count": null,
   "metadata": {
    "id": "KjkyVr-xGTRB"
   },
   "outputs": [],
   "source": [
    "#change your model path => filepath\n",
    "model.load_weights(filepath)"
   ]
  },
  {
   "cell_type": "code",
   "execution_count": null,
   "metadata": {
    "id": "tXI-0Vj5GTRD",
    "outputId": "6513c6f3-7cf4-4764-eae5-18816c235d09"
   },
   "outputs": [],
   "source": [
    "scores = model.evaluate(x_test_normalize,y_test_label, verbose=1)\n",
    "scores[1]"
   ]
  },
  {
   "cell_type": "markdown",
   "metadata": {
    "id": "CjUmvRVjGTRE"
   },
   "source": [
    "# predict & plot"
   ]
  },
  {
   "cell_type": "code",
   "execution_count": null,
   "metadata": {
    "id": "jZUs--1EGTRF",
    "outputId": "6ffa7fcf-7faa-4599-f8a8-9b2c6648caac"
   },
   "outputs": [],
   "source": [
    "prediction=model.predict_classes(x_test_normalize)"
   ]
  },
  {
   "cell_type": "code",
   "execution_count": null,
   "metadata": {
    "id": "DVC1s4bSGTRH",
    "outputId": "d943309d-41b8-46a6-c38c-f4893424f55d"
   },
   "outputs": [],
   "source": [
    "prediction[:10]"
   ]
  },
  {
   "cell_type": "code",
   "execution_count": null,
   "metadata": {
    "id": "t_OKff04GTRI"
   },
   "outputs": [],
   "source": [
    "import matplotlib.pyplot as plt\n",
    "label_dict={0:\"ta\",1:\"ssa\"}\n",
    "def plot_images_labels_prediction(images,labels,prediction,\n",
    "                                  idx=0,num=140):\n",
    "    fig = plt.gcf()\n",
    "    fig.set_size_inches(12, 14)\n",
    "    if num>25: num=25 \n",
    "    for i in range(0, num):\n",
    "        ax=plt.subplot(5,5, 1+i)\n",
    "        ax.imshow(images[idx],cmap='binary')\n",
    "        title=label_dict[labels[idx]]\n",
    "        if len(prediction)>0:\n",
    "            title+='=>'+label_dict[prediction[idx][0]]\n",
    "        ax.set_title(title,fontsize=10) \n",
    "        ax.set_xticks([]);ax.set_yticks([])        \n",
    "        idx+=1 \n",
    "    plt.show()"
   ]
  },
  {
   "cell_type": "code",
   "execution_count": null,
   "metadata": {
    "id": "bUuPlC_nGTRJ",
    "outputId": "26eeb801-42d8-4ddd-bc60-09aa6a865545"
   },
   "outputs": [],
   "source": [
    "plot_images_labels_prediction(x_test_normalize,y_test_label,prediction,idx=20)"
   ]
  }
 ],
 "metadata": {
  "accelerator": "GPU",
  "colab": {
   "collapsed_sections": [
    "r7aP3n7nGTQj",
    "hWIhmbebGTQr"
   ],
   "name": "InceptionResNetV2_ten_fold.ipynb",
   "provenance": []
  },
  "kernelspec": {
   "display_name": "Python 3",
   "language": "python",
   "name": "python3"
  },
  "language_info": {
   "codemirror_mode": {
    "name": "ipython",
    "version": 3
   },
   "file_extension": ".py",
   "mimetype": "text/x-python",
   "name": "python",
   "nbconvert_exporter": "python",
   "pygments_lexer": "ipython3",
   "version": "3.5.5"
  }
 },
 "nbformat": 4,
 "nbformat_minor": 1
}
