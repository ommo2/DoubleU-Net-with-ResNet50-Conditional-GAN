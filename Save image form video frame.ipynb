{
 "cells": [
  {
   "cell_type": "code",
   "execution_count": null,
   "metadata": {},
   "outputs": [],
   "source": [
    "%cd dataset_from_video"
   ]
  },
  {
   "cell_type": "code",
   "execution_count": null,
   "metadata": {},
   "outputs": [],
   "source": [
    "import cv2\n",
    "import numpy as np\n",
    "import os\n",
    "import sys\n",
    "\n",
    "#file path\n",
    "capture = cv2.VideoCapture('..\\\\test3.mp4')\n",
    "\n",
    "count=59\n",
    "file_count=1\n",
    "while(capture.isOpened()):\n",
    "    ret, frame = capture.read()\n",
    "    count+=1\n",
    "    if count==60:\n",
    "        if ret==True:\n",
    "            cv2.imwrite(\"polyp_\"+str(file_count)+\".png\",frame)\n",
    "            print(\"polyp_\"+str(file_count)+\".png\")\n",
    "            file_count+=1\n",
    "        else:\n",
    "            break\n",
    "        count=0\n",
    "\n",
    "capture.release()"
   ]
  }
 ],
 "metadata": {
  "kernelspec": {
   "display_name": "Python 3",
   "language": "python",
   "name": "python3"
  },
  "language_info": {
   "codemirror_mode": {
    "name": "ipython",
    "version": 3
   },
   "file_extension": ".py",
   "mimetype": "text/x-python",
   "name": "python",
   "nbconvert_exporter": "python",
   "pygments_lexer": "ipython3",
   "version": "3.6.10"
  }
 },
 "nbformat": 4,
 "nbformat_minor": 4
}
