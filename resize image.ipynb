{
 "cells": [
  {
   "cell_type": "code",
   "execution_count": null,
   "metadata": {},
   "outputs": [],
   "source": [
    "from PIL import Image\n",
    "from tqdm import tqdm\n",
    "import os\n",
    "\n",
    "path = '' #source path\n",
    "dest_path = ''#destination path\n",
    "files = os.listdir(path)\n",
    "\n",
    "def resize():\n",
    "    files = os.listdir(path)\n",
    "    for i in tqdm(range(len(files))):                             \n",
    "        try:\n",
    "            im = Image.open(path + files[i])  \n",
    "            imResize = im.resize((512,512), Image.ANTIALIAS)       #chage the size here\n",
    "            npath = dest_path + files[i]\n",
    "            npath = npath[:-4] + \".png\"\n",
    "            #imResize.save(npath)  \n",
    "        except:\n",
    "            print(path + files[i]+'error')\n",
    "resize()"
   ]
  }
 ],
 "metadata": {
  "kernelspec": {
   "display_name": "Python 3",
   "language": "python",
   "name": "python3"
  },
  "language_info": {
   "codemirror_mode": {
    "name": "ipython",
    "version": 3
   },
   "file_extension": ".py",
   "mimetype": "text/x-python",
   "name": "python",
   "nbconvert_exporter": "python",
   "pygments_lexer": "ipython3",
   "version": "3.6.10"
  }
 },
 "nbformat": 4,
 "nbformat_minor": 4
}
