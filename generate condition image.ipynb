{
 "cells": [
  {
   "cell_type": "code",
   "execution_count": null,
   "metadata": {},
   "outputs": [],
   "source": [
    "import matplotlib.pyplot as plt\n",
    "import matplotlib.image as mpimg\n",
    "import numpy as np\n",
    "import cv2\n",
    "import os\n",
    "from PIL import Image \n",
    "import PIL "
   ]
  },
  {
   "cell_type": "code",
   "execution_count": null,
   "metadata": {},
   "outputs": [],
   "source": [
    "#perform GaussianBlur & Canny algorithm\n",
    "def find_edge(file,save_path):\n",
    "    image = mpimg.imread(file)\n",
    "    \n",
    "    image=(image*255).astype(np.uint8)\n",
    "    gray = cv2.cvtColor(image, cv2.COLOR_BGR2GRAY)\n",
    "    kernel_size = 9\n",
    "    blur_gray = cv2.GaussianBlur(gray,(kernel_size, kernel_size), 0)\n",
    "    low_threshold = 60\n",
    "    high_threshold = 100\n",
    "    edges = cv2.Canny(gray, low_threshold, high_threshold)\n",
    "    \n",
    "    cv2.imwrite(save_path, edges)"
   ]
  },
  {
   "cell_type": "code",
   "execution_count": null,
   "metadata": {},
   "outputs": [],
   "source": [
    "#go through all image(find_edge)\n",
    "src_dir = r''    #source directory\n",
    "dest_dir = r''         #destination directory\n",
    "if not os.path.exists(dest_dir):\n",
    "    os.makedirs(dest_dir)\n",
    "for child_dir in os.listdir(src_dir):\n",
    "    new_name = os.path.join(dest_dir,child_dir.split('.')[0] + '.png')\n",
    "    new_name = os.path.join(dest_dir,child_dir.split('.')[0] + '.png')\n",
    "    old_mask = os.path.join(os.path.join(src_dir, child_dir))\n",
    "    find_edge(old_mask,new_name)\n",
    "    "
   ]
  },
  {
   "cell_type": "code",
   "execution_count": null,
   "metadata": {},
   "outputs": [],
   "source": [
    "#past edge image on mask graph\n",
    "def combine_edge_mask(edge,mask,save_path):\n",
    "    #turning mask graph from bgr to rgb\n",
    "    image = mpimg.imread(mask)\n",
    "    image = cv2.cvtColor(image, cv2.COLOR_BGR2RGB)\n",
    "    \n",
    "    #turning edge graph from gray_scale to rgb\n",
    "    image2 = mpimg.imread(edge)\n",
    "    image2 = cv2.cvtColor(image2, cv2.COLOR_GRAY2RGB)\n",
    "    \n",
    "    for i,j in zip(np.where(image!=0)[0],np.where(image!=0)[1]):\n",
    "        if(not(image2[i][j].all(0))):   #take this out the polyp will not have edge\n",
    "            image2[i][j]=image[i][j]\n",
    "\n",
    "    image2=(image2*255).astype(np.uint8)\n",
    "    cv2.imwrite(save_path,image2)\n",
    "    #imgplot = plt.imshow(image2)      \n",
    "    #plt.show()"
   ]
  },
  {
   "cell_type": "code",
   "execution_count": null,
   "metadata": {},
   "outputs": [],
   "source": [
    "#go through all image(combine_edge_mask)\n",
    "bot_dir = r''   #mask directory\n",
    "top_dir = r''   #edge directory\n",
    "combine = r''   #destination directory\n",
    "if not os.path.exists(combine):\n",
    "    os.makedirs(combine)\n",
    "for child_dir in os.listdir(top_dir):\n",
    "    edge = os.path.join(os.path.join(top_dir, child_dir))\n",
    "    mask = os.path.join(os.path.join(bot_dir, child_dir))\n",
    "    new_name = os.path.join(combine,child_dir.split('.')[0] + '.png')\n",
    "    combine_edge_mask(edge,mask,new_name)"
   ]
  },
  {
   "cell_type": "code",
   "execution_count": null,
   "metadata": {},
   "outputs": [],
   "source": [
    "#read the output of combine_edge_mask and original image and generate an image with original background and the mask&edge polyp\n",
    "#this image will use as a condtion in Conditional GAN\n",
    "def combine_edge_mask2(mask,ori_combine,ori_img,save_path):\n",
    "    #change bgr to rgb\n",
    "    image = mpimg.imread(mask)\n",
    "    image = cv2.cvtColor(image, cv2.COLOR_BGR2RGB)\n",
    "    \n",
    "    image3 = mpimg.imread(ori_combine)\n",
    "    image3 = cv2.cvtColor(image3, cv2.COLOR_BGR2RGB)\n",
    "    \n",
    "    image4 = mpimg.imread(ori_img)\n",
    "    image4 = cv2.cvtColor(image4, cv2.COLOR_BGR2RGB)\n",
    "    \n",
    "    #past it\n",
    "    for i,j in zip(np.where(image!=0)[0],np.where(image!=0)[1]):\n",
    "        image4[i][j]=image3[i][j]    \n",
    "\n",
    "    image4=(image4*255).astype(np.uint8)\n",
    "    cv2.imwrite(save_path,image4)\n",
    "    #imgplot = plt.imshow(image2)\n",
    "    #plt.show()"
   ]
  },
  {
   "cell_type": "code",
   "execution_count": null,
   "metadata": {},
   "outputs": [],
   "source": [
    "bot_dir = r''       #mask directory\n",
    "top_dir = r''       #combine_edge_mask directory\n",
    "ori_dir = r''       #original image directory\n",
    "combine = r''       #destination directory\n",
    "if not os.path.exists(combine):\n",
    "    os.makedirs(combine)\n",
    "for child_dir in os.listdir(top_dir):\n",
    "    mask = os.path.join(os.path.join(bot_dir, child_dir))\n",
    "    ori_combine = os.path.join(os.path.join(top_dir, child_dir))\n",
    "    ori_img = os.path.join(os.path.join(ori_dir, child_dir))\n",
    "    new_name = os.path.join(combine,child_dir.split('.')[0] + '.png')\n",
    "    combine_edge_mask2(mask,ori_combine,ori_img,new_name)\n"
   ]
  },
  {
   "cell_type": "code",
   "execution_count": null,
   "metadata": {},
   "outputs": [],
   "source": [
    "#past the condition image on the right of original image\n",
    "#the conditional project will read the left image as target image and the right as condtional\n",
    "combine_dir = r''          #combine_edge_mask2 directory\n",
    "real_dir = r''             #original directory\n",
    "train_file = r''           #destination directory\n",
    "\n",
    "for child_dir in os.listdir(combine_dir):\n",
    "    combine = mpimg.imread(os.path.join(combine_dir, child_dir))\n",
    "    real = mpimg.imread(os.path.join(real_dir, child_dir))\n",
    "    save_path = os.path.join(train_file, child_dir)\n",
    "    image_h = cv2.hconcat([real, combine])\n",
    "    image_h=(image_h*255).astype(np.uint8)\n",
    "    image_h=cv2.cvtColor(image_h, cv2.COLOR_BGR2RGB)\n",
    "    #imgplot = plt.imshow(image_h)\n",
    "    #plt.show()\n",
    "    cv2.imwrite(save_path.replace(\".png\",\".jpg\"),image_h)"
   ]
  }
 ],
 "metadata": {
  "kernelspec": {
   "display_name": "Python 3",
   "language": "python",
   "name": "python3"
  },
  "language_info": {
   "codemirror_mode": {
    "name": "ipython",
    "version": 3
   },
   "file_extension": ".py",
   "mimetype": "text/x-python",
   "name": "python",
   "nbconvert_exporter": "python",
   "pygments_lexer": "ipython3",
   "version": "3.6.10"
  }
 },
 "nbformat": 4,
 "nbformat_minor": 4
}
