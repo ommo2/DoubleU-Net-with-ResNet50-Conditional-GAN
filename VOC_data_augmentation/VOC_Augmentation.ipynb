{
 "cells": [
  {
   "cell_type": "code",
   "execution_count": null,
   "metadata": {},
   "outputs": [],
   "source": [
    "import imgaug as ia\n",
    "from imgaug import augmenters as iaa\n",
    "import numpy as np\n",
    "import cv2\n",
    "from pascal_voc_writer import Writer\n",
    "import xml.etree.ElementTree as ET\n",
    "import glob\n",
    "from util import sequence\n",
    "from util import annotation as an\n",
    "import shutil\n",
    "import sys\n",
    "import os"
   ]
  },
  {
   "cell_type": "code",
   "execution_count": null,
   "metadata": {},
   "outputs": [],
   "source": [
    "INPUT_DIR = r'strange'\n",
    "OUTPUT_DIR = r'strange_aug'\n",
    "AUGMENT_SIZE = 2\n",
    "\n",
    "if not os.path.exists(OUTPUT_DIR):\n",
    "    os.makedirs(OUTPUT_DIR)"
   ]
  },
  {
   "cell_type": "code",
   "execution_count": null,
   "metadata": {},
   "outputs": [],
   "source": [
    "def augment(annotation):\n",
    "    seq = sequence.get()\n",
    "\n",
    "    for i in range(AUGMENT_SIZE):\n",
    "        filename = annotation['filename']\n",
    "        sp = filename.split('.')\n",
    "        outfile = '%s/%s-%02d.%s' % (OUTPUT_DIR, sp[0], i, sp[-1])\n",
    "\n",
    "        seq_det = seq.to_deterministic()\n",
    "\n",
    "        image = cv2.imread('%s/%s' % (INPUT_DIR, annotation['filename']))\n",
    "        _bbs = []\n",
    "        for obj in annotation['objects']:\n",
    "            bb = ia.BoundingBox(x1=int(obj['xmin']),\n",
    "                                y1=int(obj['ymin']),\n",
    "                                x2=int(obj['xmax']),\n",
    "                                y2=int(obj['ymax']),\n",
    "                                label=obj['name'])\n",
    "            _bbs.append(bb)\n",
    "\n",
    "        bbs = ia.BoundingBoxesOnImage(_bbs, shape=image.shape)\n",
    "\n",
    "        image_aug = seq_det.augment_images([image])[0]\n",
    "        bbs_aug = seq_det.augment_bounding_boxes(\n",
    "            [bbs])[0].remove_out_of_image().cut_out_of_image()\n",
    "\n",
    "        writer = Writer(outfile,\n",
    "                        annotation['size']['width'],\n",
    "                        annotation['size']['height'])\n",
    "        for bb in bbs_aug.bounding_boxes:\n",
    "            if int((bb.x2-bb.x1)*(bb.y2-bb.y1)) == 0:\n",
    "                print(\"augmentet boundingbox has non existing area. Skipping\")\n",
    "                continue\n",
    "            writer.addObject(bb.label,\n",
    "                             int(bb.x1),\n",
    "                             int(bb.y1),\n",
    "                             int(bb.x2),\n",
    "                             int(bb.y2))\n",
    "\n",
    "        cv2.imwrite(outfile, image_aug)\n",
    "        writer.save('%s.xml' % outfile.split('.')[0])\n",
    "for file in glob.glob('%s/*.xml' % INPUT_DIR):\n",
    "\n",
    "    print('Augmenting %s ...' % file)\n",
    "    annotation = an.parse_xml(file)\n",
    "    augment(annotation)\n",
    "\n",
    "\n",
    "for file in glob.glob('%s/*.xml' % OUTPUT_DIR):\n",
    "    an.inspect(file)"
   ]
  },
  {
   "cell_type": "code",
   "execution_count": null,
   "metadata": {},
   "outputs": [],
   "source": [
    "#check if all image have done\n",
    "INPUT_DIR = r'SSA_all'\n",
    "OUTPUT_DIR = r'SSA_all_aug'\n",
    "ori_list=os.listdir(INPUT_DIR)\n",
    "out_list=os.listdir(OUTPUT_DIR)\n",
    "for i in range(len(ori_list)):\n",
    "    ori_list[i]=ori_list[i][:-4]\n",
    "for i in range(len(out_list)):\n",
    "    out_list[i]=out_list[i][:-7]\n",
    "for i in ori_list:\n",
    "    if i not in out_list:\n",
    "        print(i)"
   ]
  }
 ],
 "metadata": {
  "kernelspec": {
   "display_name": "Python 3",
   "language": "python",
   "name": "python3"
  },
  "language_info": {
   "codemirror_mode": {
    "name": "ipython",
    "version": 3
   },
   "file_extension": ".py",
   "mimetype": "text/x-python",
   "name": "python",
   "nbconvert_exporter": "python",
   "pygments_lexer": "ipython3",
   "version": "3.5.5"
  }
 },
 "nbformat": 4,
 "nbformat_minor": 4
}
