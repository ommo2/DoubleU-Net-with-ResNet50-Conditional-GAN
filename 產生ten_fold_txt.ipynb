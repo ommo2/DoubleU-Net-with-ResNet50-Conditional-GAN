{
 "cells": [
  {
   "cell_type": "markdown",
   "metadata": {},
   "source": [
    "# ***要先去把VOC轉換成YOLOTXT"
   ]
  },
  {
   "cell_type": "code",
   "execution_count": null,
   "metadata": {},
   "outputs": [],
   "source": [
    "import random"
   ]
  },
  {
   "cell_type": "code",
   "execution_count": null,
   "metadata": {},
   "outputs": [],
   "source": [
    "#一堆冗程式碼 = ="
   ]
  },
  {
   "cell_type": "code",
   "execution_count": null,
   "metadata": {},
   "outputs": [],
   "source": [
    "#前置作業\n",
    "HP_image_list=os.listdir(r\"D:\\0715_data\\data_split_high_quality\\train\\HP_all\")\n",
    "TA_image_list=os.listdir(r\"D:\\0715_data\\data_split_high_quality\\train\\TA_all\")\n",
    "SSA_image_list=os.listdir(r\"D:\\0715_data\\data_split_high_quality\\train\\SSA_all\")\n",
    "\n",
    "\n",
    "def combine_path(path,path_list):\n",
    "    for i in path_list:\n",
    "        i=os.path.join(path,i)\n",
    "\n",
    "random.shuffle(os.listdir(HP_image_list))\n",
    "random.shuffle(os.listdir(TA_image_list))\n",
    "random.shuffle(os.listdir(SSA_image_list))\n",
    "\n",
    "def generate_path_txt_num(path_list,num):\n",
    "    f= open(txt_name,\"w\")\n",
    "    for i in os.listdir(path):  \n",
    "        if \".jpg\" in i:\n",
    "            f.write(os.path.join(path,i)+\"\\n\")\n",
    "    f.close()     "
   ]
  },
  {
   "cell_type": "code",
   "execution_count": null,
   "metadata": {},
   "outputs": [],
   "source": [
    "PATHS= [r\"D:\\0715_data\\data_split_high_quality\\train\\HP_all\",r\"D:\\0715_data\\data_split_high_quality\\train\\TA_all\",r\"D:\\0715_data\\data_split_high_quality\\train\\SSA_all\"]\n",
    "HP_image_list=os.listdir(PATHS[0])\n",
    "TA_image_list=os.listdir(PATHS[1])\n",
    "SSA_image_list=os.listdir(PATHS[2])\n",
    "\n",
    "def combine_path(path,path_list): #path+oslistdir\n",
    "    return_path_list=[]\n",
    "    for i in path_list:\n",
    "        if \".jpg\" in i:\n",
    "            return_path_list.append(os.path.join(path,i))\n",
    "    return return_path_list\n",
    "HP_image_list=combine_path(PATHS[0],HP_image_list)\n",
    "TA_image_list=combine_path(PATHS[1],TA_image_list)\n",
    "SSA_image_list=combine_path(PATHS[2],SSA_image_list)\n",
    "random.shuffle(HP_image_list)\n",
    "random.shuffle(TA_image_list)\n",
    "random.shuffle(SSA_image_list)\n",
    "\n",
    "#數量自己打 我這邊一個fold 60張\n",
    "def generate_ten_fold_txt(HP,TA,SSA,num):\n",
    "    start = (num-1)*60\n",
    "    end = num*60\n",
    "    \n",
    "    #只有test要獨立不能重複\n",
    "    test = HP[start:end] + TA[start:end] + SSA[start:end]\n",
    "    \n",
    "    #train和val可以隨機沒差\n",
    "    train_HP = HP[0:start] + HP[end:612]\n",
    "    train_TA = TA[0:start] + TA[end:612]\n",
    "    train_SSA = SSA[0:start] + SSA[end:612]\n",
    "    random.shuffle(train_HP)\n",
    "    random.shuffle(train_TA)\n",
    "    random.shuffle(train_SSA)\n",
    "    val = train_HP[0:60]+train_TA[0:60]+train_SSA[0:60]\n",
    "    train = train_HP[60:]+train_TA[60:]+train_SSA[60:]\n",
    "    \n",
    "    f = open(\"data_split_high_quality\\\\train\\\\ori_txt\\\\train\"+str(num)+\".txt\",\"w\")\n",
    "    for i in train: \n",
    "        f.write(i+\"\\n\")\n",
    "    f.close()  \n",
    "\n",
    "    f = open(\"data_split_high_quality\\\\train\\\\ori_txt\\\\val\"+str(num)+\".txt\",\"w\")\n",
    "    for i in val: \n",
    "        f.write(i+\"\\n\")\n",
    "    f.close()  \n",
    "\n",
    "    \n",
    "    f = open(\"data_split_high_quality\\\\train\\\\ori_txt\\\\test\"+str(num)+\".txt\",\"w\")\n",
    "    for i in test: \n",
    "        f.write(i+\"\\n\")\n",
    "    f.close()"
   ]
  },
  {
   "cell_type": "code",
   "execution_count": null,
   "metadata": {},
   "outputs": [],
   "source": [
    "#產生訓練txt\n",
    "for i in range(10):\n",
    "    generate_ten_fold_txt(HP_image_list,TA_image_list,SSA_image_list,i+1)"
   ]
  }
 ],
 "metadata": {
  "kernelspec": {
   "display_name": "Python 3",
   "language": "python",
   "name": "python3"
  },
  "language_info": {
   "codemirror_mode": {
    "name": "ipython",
    "version": 3
   },
   "file_extension": ".py",
   "mimetype": "text/x-python",
   "name": "python",
   "nbconvert_exporter": "python",
   "pygments_lexer": "ipython3",
   "version": "3.5.5"
  }
 },
 "nbformat": 4,
 "nbformat_minor": 2
}
